{
 "cells": [
  {
   "cell_type": "markdown",
   "metadata": {},
   "source": [
    "# Agenda\n",
    "1. [What is validation and why do we need it?](#Intro)\n",
    "2. [Evaluation Metrics:](#metrics) <br>\n",
    "    2.1 [Optimization Loss and Evaluation Metrics](#loss_and_metric) <br>\n",
    "    2.2 [Classification metrics](#classification_metrics) <br>\n",
    "    2.3 [Regression metrics](#regression_metrics) <br>\n",
    "    2.4 [Metrics in ASR, TTS, Vocoding, Audio Super Resolution tasks](#generative_metrics) <br>\n",
    "3. [Validation Strategies:](#validation_strategies) <br>\n",
    "    3.1 [Overfitting. Why do we need train/test concept?](#overfitting) <br>\n",
    "    3.2 [Holdout / Stratified split / train-validation-test](#holdout) <br>\n",
    "    3.3 [K-fold / Stratified K-fold / Repeated K-fold](#kfold) <br>\n",
    "    3.4 [Time-based validation / Time K-fold](#timebased) <br>\n",
    "    3.5 [Group K-fold](#groupkfold) <br>\n",
    "    3.6 [Choosing the right strategy for real-life scenarios and competition LB consistency](#strategychoose) <br>\n",
    "4. [Local validation VS real-life/competition testing metrics mismatch](#validation_mismatch) <br>\n",
    "    4.1 [Wrong local validation strategy](#wrong_local_validation) <br>\n",
    "    4.2 [Shifted features distributions](#shifted_features) <br>\n",
    "    4.3 [Adversarial validation](#adversarial_validation) <br>\n",
    "5. [Limitations](#limitations)"
   ]
  },
  {
   "cell_type": "markdown",
   "metadata": {},
   "source": [
    "<a id='Intro'></a>\n",
    "# What is validation and why do we need it?\n",
    "\n",
    "The ML models validation process is a crucial step in developing machine learning models. It involves assessing the performance and generalization capabilities of a trained model to ensure that it can make accurate predictions on new, unseen data. There are such key points in evaluating models:\n",
    "\n",
    "**Generalization performance** - We want to estimate the predictive performance of our model on future (unseen) data.\n",
    "- Ideally, the estimated performance (based on evaluation metrics) of a model tells us how well it performs on unseen data, because making predictions on future (unseen) data is often the main problem we want to solve.\n",
    "\n",
    "**Hyperparameters tuning and feature engineering** - We want to increase the predictive performance by tweaking the learning algorithm and selecting the best performing model from a given hypothesis space.\n",
    "- Typically, machine learning involves a lot of experimentation. Running a learning algorithm over a training dataset with different hyperparameter settings and different features will result in different models. Since we are typically interested in selecting the best-performing model from this set, we need to find a way to estimate their respective performances in order to rank them against each other.\n",
    "\n",
    "**Model selection** - We want to compare different ML models (e.g. linear, decision tree, gradient boosting, etc.), selecting the best-performing one.\n",
    "- We are usually not only experimenting with the one single algorithm that we think would be the “best solution” under the given circumstances. More often than not, we want to compare different models to each other, oftentimes in terms of predictive and computational performance."
   ]
  },
  {
   "cell_type": "markdown",
   "metadata": {},
   "source": [
    "<a id='metrics'></a>\n",
    "# 2. Evaluation metrics\n",
    "An evaluation metric, in the context of machine learning and data analysis, is a quantitative measure used to assess the performance or quality of a model or a system's output with respect to a specific task or objective. Evaluation metrics are crucial because they provide a standardized way to measure and compare the performance of different models or systems. The choice of evaluation metric depends on the nature of the task being addressed (e.g. classification, regression, ranking) and the specific goals and requirements of the project.\n",
    "\n",
    "<a id='loss_and_metric'></a>\n",
    "## 2.1 Optimization Loss and Evaluation Metrics\n",
    "Optimization loss and evaluation metrics serve different roles in the context of machine learning model training and evaluation. Here are the key differences between the two: <br>\n",
    "1. **Purpose**: <br>\n",
    "    **Optimization Loss:** often simply referred to as \"loss\", is a mathematical function that the machine learning model aims to minimize during training. It serves as the objective function that guides the model's parameter updates during optimization. The primary purpose of the loss function is to measure the dissimilarity between the model's predictions and the true target values. It provides the model with a signal for adjusting its internal parameters to improve its predictive performance on the training data. The model's parameters are updated in the direction that reduces this loss, using techniques like gradient descent.<br>\n",
    "    **Evaluation Metric:** used to assess the model's performance and quality after it has been trained and to evaluate how well it generalizes to new, unseen data. These metrics are not used during training but rather during the model evaluation phase to provide a quantitative measure of how well the model is achieving its intended task. Evaluation metrics are often chosen based on the specific problem and the practical goals of the application.\n",
    "    \n",
    "2. **Function properties:** <br>\n",
    "    **Optimization Loss:** differentiable \"almost everywhere\" with respect to model parameters function that is well-suited for gradient-based optimization algorithms. Common examples include mean squared error (MSE), mean absolute error (MAE) for regression tasks and cross-entropy loss for classification tasks. <br>\n",
    "    **Evaluation Metric:** both continuous and discrete, are usually much better interpretable than loss, depending on the nature of the task. Examples include accuracy, precision, recall, F1-score, roc-auc, mean absolute percentage error, etc.\n",
    "    \n",
    "\n",
    "### What are \"good\" and \"bad\" properties of different evaluation metrics?\n",
    "\n",
    "- **differentiability \"almost everywhere\"** - is definitely a good property, because this kind of a metrics could serve as a training loss, so you can directly optimize it with SGD-based methods.\n",
    "- **multiclass/multivariate extensibility** - is definitely a good property, because in many real-life tasks you'll need to handle multicalss/multivariate ML problems, so you can extend your regular metric to them.\n",
    "- **reference values** - is definitely a good property, because if the metric has some reference values (e.g. ROCAUC=0.5), then without deep-diving into the problem itself and the nature of the data, we can immediately say whether the solution is rather good or not.\n",
    "- **interpretability** - is rather good property. When we talk about interpretability in terms of ML evaluation metrics, we're often discussing how understandable the metrics themselves are (especially by people without a deep background in ML), as well as how well they allow us to interpret the performance and characteristics of the model. Although, understanding more complex and less interpretable metrics fully may require some background knowledge, but they may provide deeper insights into some specific aspects of model performance.\n",
    "- **values limitation** - is rather good property, because if metric values are limited in some specific range is there is no risk of getting +-infinity values, with which it is not very clear what to do.\n",
    "- **outliers resistance** - is rather a good property, but only for problems in which outliers are not so important, e.g. in algo-trading there could be \"outlier\"-like situations in the market which can lead to your algorithm losing most of its money at once -> so you'll need to take care of outliers and doesn't use outlier-resistant metrics.\n",
    "- **equivalence of accounting for errors of the first and second types** - very much depends on the business task itself. E.g. in the classical credit scoring problem you would rather lend to fewer people, but who will definitely return your money, than to a much larger number of people who will not return your money (precision-based optimization), on the other hand in the task of primary disease diagnosis it is much more important to correctly identify all people with a disease, while falsely identifying healthy people as sick, than to very accurately identify those who are sick while missing half (recall-based optimization)"
   ]
  },
  {
   "cell_type": "markdown",
   "metadata": {},
   "source": [
    "## Example dataset overview\n",
    "[Common Language Dataset](https://huggingface.co/datasets/common_language) <br>\n",
    "![](images/common_languages_structure.png) <br>\n",
    " - This dataset has been already split into the train/validation/test parts using some specific logic. We will use train/dev parts as a local train and the test part as a \"kaggle leaderboard\" test.\n",
    " - In this lecture we will consider 2 main tasks for this dataset: gender detection and age group classification"
   ]
  },
  {
   "cell_type": "code",
   "execution_count": 1,
   "metadata": {},
   "outputs": [],
   "source": [
    "# !curl -o ../../data/CommonLanguage.tar.gz https://zenodo.org/records/5036977/files/CommonLanguage.tar.gz?download=1\n",
    "# !tar -xvzf ../../data/CommonLanguage.tar.gz -C ../../data/"
   ]
  },
  {
   "cell_type": "code",
   "execution_count": 2,
   "metadata": {},
   "outputs": [],
   "source": [
    "import pandas as pd\n",
    "import glob\n",
    "\n",
    "df_train = []\n",
    "df_test = []\n",
    "\n",
    "for language_dir in glob.glob('../../data/common_voice_kpd/*'):\n",
    "    language = language_dir.split('/')[-1]\n",
    "    df_train_current = pd.read_csv(\n",
    "        f'{language_dir}/train.csv', encoding='utf-16', sep='\\t'\n",
    "    )\n",
    "    df_train_current['language'] = language\n",
    "    df_train.append(df_train_current)\n",
    "    \n",
    "    df_dev_current = pd.read_csv(\n",
    "        f'{language_dir}/dev.csv', encoding='utf-16', sep='\\t'\n",
    "    )\n",
    "    df_dev_current['language'] = language\n",
    "    df_train.append(df_dev_current)\n",
    "    \n",
    "    df_test_current = pd.read_csv(\n",
    "        f'{language_dir}/test.csv', encoding='utf-16', sep='\\t'\n",
    "    )\n",
    "    df_test_current['language'] = language\n",
    "    df_test.append(df_test_current)\n",
    "    \n",
    "\n",
    "df_train = pd.concat(df_train).reset_index(drop=True).drop(columns=['Unnamed: 0'])\n",
    "df_test = pd.concat(df_test).reset_index(drop=True).drop(columns=['Unnamed: 0'])\n",
    "\n",
    "audio_paths = glob.glob('../../data/common_voice_kpd/*/*/*/*.wav')\n",
    "audio_paths_mapping = {p.split('/')[-1]: p for p in audio_paths}\n",
    "\n",
    "df_train['full_path'] = df_train.path.map(audio_paths_mapping)\n",
    "df_test['full_path'] = df_test.path.map(audio_paths_mapping)"
   ]
  },
  {
   "cell_type": "code",
   "execution_count": 3,
   "metadata": {},
   "outputs": [
    {
     "data": {
      "text/html": [
       "<div>\n",
       "<style scoped>\n",
       "    .dataframe tbody tr th:only-of-type {\n",
       "        vertical-align: middle;\n",
       "    }\n",
       "\n",
       "    .dataframe tbody tr th {\n",
       "        vertical-align: top;\n",
       "    }\n",
       "\n",
       "    .dataframe thead th {\n",
       "        text-align: right;\n",
       "    }\n",
       "</style>\n",
       "<table border=\"1\" class=\"dataframe\">\n",
       "  <thead>\n",
       "    <tr style=\"text-align: right;\">\n",
       "      <th></th>\n",
       "      <th>client_id</th>\n",
       "      <th>path</th>\n",
       "      <th>sentence</th>\n",
       "      <th>age</th>\n",
       "      <th>gender</th>\n",
       "      <th>language</th>\n",
       "      <th>full_path</th>\n",
       "    </tr>\n",
       "  </thead>\n",
       "  <tbody>\n",
       "    <tr>\n",
       "      <th>13687</th>\n",
       "      <td>swd_trn_sp_78</td>\n",
       "      <td>common_voice_sv-SE_21291515.wav</td>\n",
       "      <td>Här bestämmer jag.</td>\n",
       "      <td>not_defined</td>\n",
       "      <td>not_defined</td>\n",
       "      <td>Swedish</td>\n",
       "      <td>../../data/common_voice_kpd/Swedish/train/swd_...</td>\n",
       "    </tr>\n",
       "    <tr>\n",
       "      <th>24605</th>\n",
       "      <td>kyn_trn_sp_188</td>\n",
       "      <td>common_voice_rw_21293798.wav</td>\n",
       "      <td>kuva yaza mu Rwanda yagaragaje urukundo rudasa...</td>\n",
       "      <td>twenties</td>\n",
       "      <td>male</td>\n",
       "      <td>Kinyarwanda</td>\n",
       "      <td>../../data/common_voice_kpd/Kinyarwanda/train/...</td>\n",
       "    </tr>\n",
       "    <tr>\n",
       "      <th>12567</th>\n",
       "      <td>grmn_dev_sp_69</td>\n",
       "      <td>common_voice_de_18208550.wav</td>\n",
       "      <td>Sie hüten das Geheimnis wie ihren eigenen Auga...</td>\n",
       "      <td>not_defined</td>\n",
       "      <td>not_defined</td>\n",
       "      <td>German</td>\n",
       "      <td>../../data/common_voice_kpd/German/dev/grmn_de...</td>\n",
       "    </tr>\n",
       "    <tr>\n",
       "      <th>11237</th>\n",
       "      <td>rsh_trn_sp_247</td>\n",
       "      <td>common_voice_ru_22252321.wav</td>\n",
       "      <td>да</td>\n",
       "      <td>not_defined</td>\n",
       "      <td>not_defined</td>\n",
       "      <td>Russian</td>\n",
       "      <td>../../data/common_voice_kpd/Russian/train/rsh_...</td>\n",
       "    </tr>\n",
       "    <tr>\n",
       "      <th>11000</th>\n",
       "      <td>rsh_trn_sp_91</td>\n",
       "      <td>common_voice_ru_19862767.wav</td>\n",
       "      <td>Мы верим в Организацию Объединенных Наций.</td>\n",
       "      <td>not_defined</td>\n",
       "      <td>not_defined</td>\n",
       "      <td>Russian</td>\n",
       "      <td>../../data/common_voice_kpd/Russian/train/rsh_...</td>\n",
       "    </tr>\n",
       "  </tbody>\n",
       "</table>\n",
       "</div>"
      ],
      "text/plain": [
       "            client_id                             path  \\\n",
       "13687   swd_trn_sp_78  common_voice_sv-SE_21291515.wav   \n",
       "24605  kyn_trn_sp_188     common_voice_rw_21293798.wav   \n",
       "12567  grmn_dev_sp_69     common_voice_de_18208550.wav   \n",
       "11237  rsh_trn_sp_247     common_voice_ru_22252321.wav   \n",
       "11000   rsh_trn_sp_91     common_voice_ru_19862767.wav   \n",
       "\n",
       "                                                sentence          age  \\\n",
       "13687                                 Här bestämmer jag.  not_defined   \n",
       "24605  kuva yaza mu Rwanda yagaragaje urukundo rudasa...     twenties   \n",
       "12567  Sie hüten das Geheimnis wie ihren eigenen Auga...  not_defined   \n",
       "11237                                                 да  not_defined   \n",
       "11000         Мы верим в Организацию Объединенных Наций.  not_defined   \n",
       "\n",
       "            gender     language  \\\n",
       "13687  not_defined      Swedish   \n",
       "24605         male  Kinyarwanda   \n",
       "12567  not_defined       German   \n",
       "11237  not_defined      Russian   \n",
       "11000  not_defined      Russian   \n",
       "\n",
       "                                               full_path  \n",
       "13687  ../../data/common_voice_kpd/Swedish/train/swd_...  \n",
       "24605  ../../data/common_voice_kpd/Kinyarwanda/train/...  \n",
       "12567  ../../data/common_voice_kpd/German/dev/grmn_de...  \n",
       "11237  ../../data/common_voice_kpd/Russian/train/rsh_...  \n",
       "11000  ../../data/common_voice_kpd/Russian/train/rsh_...  "
      ]
     },
     "execution_count": 3,
     "metadata": {},
     "output_type": "execute_result"
    }
   ],
   "source": [
    "df_train.sample(5)"
   ]
  },
  {
   "cell_type": "code",
   "execution_count": 4,
   "metadata": {},
   "outputs": [
    {
     "data": {
      "text/plain": [
       "gender\n",
       "not_defined    0.523930\n",
       "male           0.369952\n",
       "female         0.100812\n",
       "other          0.005306\n",
       "Name: proportion, dtype: float64"
      ]
     },
     "execution_count": 4,
     "metadata": {},
     "output_type": "execute_result"
    }
   ],
   "source": [
    "df_train.gender.value_counts(normalize=True)"
   ]
  },
  {
   "cell_type": "code",
   "execution_count": 5,
   "metadata": {},
   "outputs": [
    {
     "data": {
      "text/plain": [
       "age\n",
       "not_defined    0.524856\n",
       "twenties       0.212485\n",
       "thirties       0.141692\n",
       "teens          0.044299\n",
       "fourties       0.041949\n",
       "fifties        0.023253\n",
       "sixties        0.010078\n",
       "seventies      0.000819\n",
       "eighties       0.000427\n",
       "nineties       0.000142\n",
       "Name: proportion, dtype: float64"
      ]
     },
     "execution_count": 5,
     "metadata": {},
     "output_type": "execute_result"
    }
   ],
   "source": [
    "df_train.age.value_counts(normalize=True)"
   ]
  },
  {
   "cell_type": "code",
   "execution_count": 6,
   "metadata": {},
   "outputs": [
    {
     "name": "stderr",
     "output_type": "stream",
     "text": [
      "/gpfs/helios/home/volodymyr1/src/ucu_audio_processing_course/.venv/lib/python3.11/site-packages/torch/_utils.py:831: UserWarning: TypedStorage is deprecated. It will be removed in the future and UntypedStorage will be the only storage class. This should only matter to you if you are using storages directly.  To access UntypedStorage directly, use tensor.untyped_storage() instead of tensor.storage()\n",
      "  return self.fget.__get__(instance, owner)()\n",
      "\n",
      "KeyboardInterrupt\n",
      "\n"
     ]
    }
   ],
   "source": [
    "import librosa\n",
    "import torch\n",
    "import numpy as np\n",
    "from transformers import (\n",
    "    AutoTokenizer, AutoFeatureExtractor, AutoModelForCTC, \n",
    "    AutoProcessor, Wav2Vec2Model, HubertForCTC, \n",
    "    HubertModel, Data2VecAudioForCTC, Data2VecAudioModel,\n",
    "    AutoModelForAudioXVector\n",
    ")\n",
    "from tqdm.autonotebook import tqdm\n",
    "\n",
    "class XVectorExtractor:\n",
    "    def __init__(\n",
    "        self,\n",
    "        model_name,\n",
    "        device=\"cpu\",\n",
    "        do_normalize=True\n",
    "    ):\n",
    "        self.feature_extractor = AutoFeatureExtractor.from_pretrained(model_name)\n",
    "        self.model = AutoModelForAudioXVector.from_pretrained(model_name).to(device)\n",
    "        self.do_normalize = do_normalize\n",
    "\n",
    "    def extract_features(\n",
    "        self,\n",
    "        wave_pathes,\n",
    "        sample_rate\n",
    "    ):\n",
    "        features = []\n",
    "        for wave_path in tqdm(wave_pathes):\n",
    "            wave, _ = librosa.load(wave_path, sr=sample_rate)\n",
    "            inputs = self.feature_extractor([wave], sampling_rate=sample_rate, return_tensors=\"pt\").input_values\n",
    "            with torch.no_grad():\n",
    "                embeddings = self.model(inputs.cuda()).embeddings\n",
    "            if self.do_normalize:\n",
    "                embeddings = torch.nn.functional.normalize(embeddings, dim=-1)\n",
    "            embeddings = embeddings.cpu()\n",
    "            features.append(embeddings)\n",
    "        return torch.cat(features, dim=0)\n",
    "    \n",
    "w2v2_xvector_model = XVectorExtractor(\n",
    "    model_name=\"anton-l/wav2vec2-base-superb-sv\",\n",
    "    device=\"cuda\",\n",
    "    do_normalize=True\n",
    ")"
   ]
  },
  {
   "cell_type": "code",
   "execution_count": null,
   "metadata": {},
   "outputs": [],
   "source": [
    "train_w2v2_embs = w2v2_xvector_model.extract_features(\n",
    "    df_train.full_path.tolist(),\n",
    "    sample_rate=16_000\n",
    ")\n",
    "\n",
    "test_w2v2_embs = w2v2_xvector_model.extract_features(\n",
    "    df_test.full_path.tolist(),\n",
    "    sample_rate=16_000\n",
    ")\n",
    "\n",
    "np.save(\"../../data/w2v2_train_xvectors.npy\", train_w2v2_embs.numpy())\n",
    "np.save(\"../../data/w2v2_test_xvectors.npy\", test_w2v2_embs.numpy())"
   ]
  },
  {
   "cell_type": "code",
   "execution_count": 7,
   "metadata": {},
   "outputs": [],
   "source": [
    "train_w2v2_embs = np.load(\"../../data/w2v2_train_xvectors.npy\")\n",
    "test_w2v2_embs = np.load(\"../../data/w2v2_test_xvectors.npy\")"
   ]
  },
  {
   "cell_type": "code",
   "execution_count": 41,
   "metadata": {},
   "outputs": [
    {
     "data": {
      "text/plain": [
       "(28082, 512)"
      ]
     },
     "execution_count": 41,
     "metadata": {},
     "output_type": "execute_result"
    }
   ],
   "source": [
    "train_w2v2_embs.shape"
   ]
  },
  {
   "cell_type": "code",
   "execution_count": 42,
   "metadata": {},
   "outputs": [
    {
     "data": {
      "text/plain": [
       "(5963, 512)"
      ]
     },
     "execution_count": 42,
     "metadata": {},
     "output_type": "execute_result"
    }
   ],
   "source": [
    "test_w2v2_embs.shape"
   ]
  },
  {
   "cell_type": "code",
   "execution_count": 8,
   "metadata": {},
   "outputs": [],
   "source": [
    "from sklearn.preprocessing import LabelEncoder\n",
    "\n",
    "\n",
    "binary_gender_mask_train = df_train.gender.isin(['male', 'female'])\n",
    "binary_gender_mask_test = df_test.gender.isin(['male', 'female'])\n",
    "\n",
    "df_train_gender = df_train[binary_gender_mask_train].reset_index(drop=True)\n",
    "df_test_gender = df_test[binary_gender_mask_test].reset_index(drop=True)\n",
    "\n",
    "y_train = df_train_gender.gender.map({'male': 0, 'female': 1})\n",
    "y_test = df_test_gender.gender.map({'male': 0, 'female': 1})\n",
    "\n",
    "X_train = train_w2v2_embs[binary_gender_mask_train]\n",
    "X_test = test_w2v2_embs[binary_gender_mask_test]"
   ]
  },
  {
   "cell_type": "code",
   "execution_count": 9,
   "metadata": {},
   "outputs": [
    {
     "data": {
      "text/plain": [
       "gender\n",
       "0    0.785855\n",
       "1    0.214145\n",
       "Name: proportion, dtype: float64"
      ]
     },
     "execution_count": 9,
     "metadata": {},
     "output_type": "execute_result"
    }
   ],
   "source": [
    "y_train.value_counts(normalize=True)"
   ]
  },
  {
   "cell_type": "code",
   "execution_count": 10,
   "metadata": {},
   "outputs": [
    {
     "data": {
      "text/plain": [
       "gender\n",
       "0    0.813477\n",
       "1    0.186523\n",
       "Name: proportion, dtype: float64"
      ]
     },
     "execution_count": 10,
     "metadata": {},
     "output_type": "execute_result"
    }
   ],
   "source": [
    "y_test.value_counts(normalize=True)"
   ]
  },
  {
   "cell_type": "code",
   "execution_count": 11,
   "metadata": {},
   "outputs": [],
   "source": [
    "from sklearn.preprocessing import LabelEncoder, StandardScaler\n",
    "from sklearn.ensemble import HistGradientBoostingClassifier, RandomForestClassifier\n",
    "from sklearn.linear_model import LogisticRegression\n",
    "from sklearn.metrics import accuracy_score, f1_score, roc_auc_score\n",
    "from sklearn.pipeline import Pipeline\n",
    "\n",
    "\n",
    "pipe_classification = Pipeline([\n",
    "    (\"scaler\", StandardScaler()),\n",
    "    (\"classifier\", LogisticRegression(random_state=42, max_iter=1000))\n",
    "])\n",
    "\n",
    "pipe_classification.fit(X_train, y_train)\n",
    "\n",
    "y_hat = pipe_classification.predict_proba(X_test)[:, 1]"
   ]
  },
  {
   "cell_type": "markdown",
   "metadata": {},
   "source": [
    "<a id='classification_metrics'></a>\n",
    "## 2.2 Classification metrics\n",
    "\n",
    "Examples of classification tasks in the audio processing domain:\n",
    "- Speaker Identification and Verification: These tasks focus on recognizing who is speaking. Identification involves determining the identity of the speaker from a group of known voices, while verification checks if the voice belongs to a claimed identity. Such technologies are crucial for security systems and personalized voice services.\n",
    "- Music Genre Classification: This task classifies music tracks into genres (e.g., rock, classical, jazz) based on their audio features. It's used in music streaming services for playlist curation and recommendation algorithms.\n",
    "- Emotion Recognition: This involves identifying emotional states (e.g., happy, sad, angry) from vocal expressions in audio clips. It has applications in customer service to gauge caller satisfaction and in interactive entertainment to adjust content based on the user's emotional state.\n",
    "- Sound Event Detection and Classification: This task identifies and classifies sounds within an audio clip into categories like animal noises, vehicle sounds, or environmental sounds. It's used in surveillance systems, wildlife monitoring, and urban planning to understand the acoustic environment.\n",
    "- Language Identification: This task identifies the language spoken in an audio clip, crucial for multilingual speech recognition systems and global communication services.\n",
    "\n",
    "A binary machine learning classification task is a type of supervised learning problem in which the goal is to categorize data points into one of two distinct classes or categories. In other words, the output or prediction of the model is the probability distribution of an element belonging to the corresponding classes. These two classes are often referred to as the positive class and the negative class. The objective is to learn a model that can accurately classify new, unseen data points into one of these two classes based on the features or attributes of the data.\n"
   ]
  },
  {
   "cell_type": "markdown",
   "metadata": {},
   "source": [
    "$$Let \\hspace{0.1cm} Y = \\Bigl\\{ y_{i} \\Bigl\\} \\hspace{0.1cm} - \\hspace{0.1cm} vector \\hspace{0.1cm} of\\hspace{0.1cm} ground\\hspace{0.1cm} truth\\hspace{0.1cm} labels \\hspace{0.5cm}  y_{i} є \\{0, 1\\}$$\n",
    "$$Let \\hspace{0.1cm} \\hat{Y} = \\Bigl\\{ \\hat{y_{i}} \\Bigl\\} \\hspace{0.1cm} - \\hspace{0.1cm} vector \\hspace{0.1cm} of\\hspace{0.1cm} predicted\\hspace{0.1cm} probabilities\\hspace{0.1cm} of \\hspace{0.1cm} class \\hspace{0.1cm} 1 \\hspace{0.5cm} \\hat{y_{i}} є [0, 1]$$\n",
    "### Continuous metrics:\n",
    "**Log-Loss / Cross-Entropy Loss** <br>\n",
    "$$ LogLoss = {-\\frac{1}{N} \\sum_{i=1}^{N}(y_{i}log(\\hat{y_{i}})+(1-y_i)log(1-\\hat{y_{i}}))}$$\n",
    "##### Pros:\n",
    "    + Differentiable\n",
    "    + Could be a loss\n",
    "    + Impact of misclassification confidence: Log loss takes into account the model's confidence in its predictions. If a model is highly confident in an incorrect prediction, it will result in a higher log loss than a less confident incorrect prediction\n",
    "    + Multiclass extension: Log loss can be extended to multiclass classification problems, where there are more than two classes\n",
    "\n",
    "##### Cons:\n",
    "    - Poorly interpretable (especially for people without IT/ML background)\n",
    "    - Not limited: Log loss values range from 0 to positive infinity\n",
    "    - Doesn't have \"reference values\": without knowing the task and classes distribution it's hard to tell whether e.g. 0.1/0.5/1.5 refers to a rather \"good\" or \"poor\" model performance "
   ]
  },
  {
   "cell_type": "code",
   "execution_count": 12,
   "metadata": {},
   "outputs": [
    {
     "data": {
      "text/plain": [
       "0.10764155181179848"
      ]
     },
     "execution_count": 12,
     "metadata": {},
     "output_type": "execute_result"
    }
   ],
   "source": [
    "from sklearn.metrics import log_loss\n",
    "\n",
    "log_loss(y_test, y_hat)"
   ]
  },
  {
   "cell_type": "markdown",
   "metadata": {},
   "source": [
    "### Discrete metrics:\n",
    "\n",
    "In the discrete metric case we work with \"hard\" labels intead of \"soft\" labels or probabilities. Soft labels can be transformed into hard labels for example using threshold for binary classification: e.g. if value > 0.5 then we consider it as a positive class and replace it with 1; otherwise we consider it as a negative class and replace it with 0.\n",
    "\n",
    "In order to introduce all common discrete metrics we need to get familiar with the **confusion matrix** that consists of 4 components:\n",
    "- **TP (True Positive)** - number of pairs for which $y_{i}=1$ and $hard\\_label(\\hat{y_{i}})=1$ i.e. number of positives that were predicted as positives by the model\n",
    "- **TN (True Negative)** - number of pairs for which $y_{i}=0$ and $hard\\_label(\\hat{y_{i}})=0$ i.e. number of negatives that were predicted as negatives by the model\n",
    "- **FP (False Positive)** - number of pairs for which $y_{i}=0$ and $hard\\_label(\\hat{y_{i}})=1$ i.e. number of negatives that were predicted as positives by the model\n",
    "- **FN (False Negative)** - number of pairs for which $y_{i}=1$ and $hard\\_label(\\hat{y_{i}})=0$ i.e. number of positives that were predicted as negatives by the model\n",
    "\n",
    "![](https://assets-global.website-files.com/5d7b77b063a9066d83e1209c/63b413d2cdc133446aa23fc5_636b9182cfaef2115e028921_HERO_1_Confusion.png)"
   ]
  },
  {
   "cell_type": "code",
   "execution_count": 13,
   "metadata": {},
   "outputs": [
    {
     "name": "stdout",
     "output_type": "stream",
     "text": [
      "[[3067  108]\n",
      " [  38  690]]\n"
     ]
    }
   ],
   "source": [
    "from sklearn.metrics import confusion_matrix\n",
    "\n",
    "print(confusion_matrix(y_test, y_hat >= 0.5))"
   ]
  },
  {
   "cell_type": "markdown",
   "metadata": {},
   "source": [
    "|                | Predicted Negative | Predicted Positive |\n",
    "|:--------------:|--------------------|--------------------|\n",
    "| **Negative Cases** |      TN: 3067      |      FP: 108      |\n",
    "| **Positive Cases** |      FN: 38      |      TP: 690     |"
   ]
  },
  {
   "cell_type": "markdown",
   "metadata": {},
   "source": [
    "**Accuracy** <br>\n",
    "Accuracy simply measures *what percent of your predictions were correct*. It's the ratio between the number of correct predictions and the total number of predictions. The downside is that it is hard to optimize and it cares about hard labels\n",
    "\n",
    "$$accuracy = {\\frac{TP + TN}{TP + FP + FN + TN}}$$\n",
    "\n",
    "##### Pros:\n",
    "    + Highly interpretable by non-technical people\n",
    "    + Limited in range [0, 1]\n",
    "    + Multiclass extension: can be extended to multiclass classification problems, where there are more than two classes\n",
    "\n",
    "##### Cons:\n",
    "    - Not resistant to class imbalance\n",
    "    - Doesn't have \"reference values\": without knowing the task and classes distribution it's hard to tell whether e.g. 0.6/0.8/0.99 refers to a rather \"good\" or \"poor\" model performance. However, the percentage of the majority class may be considered as a reference value if we know the class distribution."
   ]
  },
  {
   "cell_type": "code",
   "execution_count": 14,
   "metadata": {},
   "outputs": [
    {
     "data": {
      "text/plain": [
       "0.9625928772738919"
      ]
     },
     "execution_count": 14,
     "metadata": {},
     "output_type": "execute_result"
    }
   ],
   "source": [
    "from sklearn.metrics import accuracy_score\n",
    "\n",
    "accuracy_score(y_test, y_hat >= 0.5)"
   ]
  },
  {
   "cell_type": "markdown",
   "metadata": {},
   "source": [
    "**Precision & Recall**\n",
    "\n",
    "Precision and recall are actually two metrics. But they are often used together.\n",
    "\n",
    "**Precision** answers the question: *What percent of positive predictions were correct?*\n",
    "\n",
    "$$precision = {\\frac{TP}{TP + FP}}$$\n",
    "\n",
    "**Recall** answers the question: *What percent of the positive cases was catched?*\n",
    "\n",
    "$$recall = {\\frac{TP}{TP + FN}}$$\n",
    "\n",
    "##### Pros:\n",
    "    + Highly interpretable by non-technical people\n",
    "    + Limited in range [0, 1]\n",
    "    + Multiclass extension: can be extended to multiclass classification problems, where there are more than two classes\n",
    "\n",
    "##### Cons:\n",
    "    - Doesn't take into account TN\n",
    "    - Do not make sense without each other\n",
    "    - Strongly depend on the threshold\n",
    "\n",
    "**F1-score**\n",
    "The F1-score (sometimes known as the balanced F-beta score with beta=1) is a single metric that combines both precision and recall via their harmonic mean:\n",
    "\n",
    "$$F_1 = 2*{\\frac{precision * recall}{precision + recall}}$$\n",
    "\n",
    "Unlike the arithmetic mean, the harmonic mean tends toward the smaller of the two elements. Hence the F1 score will be small if either precision or recall is small.\n",
    "We actually need F1 score because in many cases we can make precision almost as close to 1 as possible but this will result a poor recall and vice-versa.\n",
    "\n",
    "##### Pros:\n",
    "    + Limited in range [0, 1]\n",
    "    + Suitable for imbalanced classes case\n",
    "    + Multiclass extension: can be extended to multiclass classification problems, where there are more than two classes\n",
    "\n",
    "##### Cons:\n",
    "    - Poorly interpretable (especially for people without IT/ML background)\n",
    "    - Doesn't take into account TN\n",
    "    - Strongly depend on the threshold"
   ]
  },
  {
   "cell_type": "code",
   "execution_count": 15,
   "metadata": {},
   "outputs": [
    {
     "data": {
      "text/html": [
       "<div>\n",
       "<style scoped>\n",
       "    .dataframe tbody tr th:only-of-type {\n",
       "        vertical-align: middle;\n",
       "    }\n",
       "\n",
       "    .dataframe tbody tr th {\n",
       "        vertical-align: top;\n",
       "    }\n",
       "\n",
       "    .dataframe thead th {\n",
       "        text-align: right;\n",
       "    }\n",
       "</style>\n",
       "<table border=\"1\" class=\"dataframe\">\n",
       "  <thead>\n",
       "    <tr style=\"text-align: right;\">\n",
       "      <th></th>\n",
       "      <th>positives_ratio</th>\n",
       "      <th>precision</th>\n",
       "      <th>recall</th>\n",
       "      <th>f1</th>\n",
       "    </tr>\n",
       "  </thead>\n",
       "  <tbody>\n",
       "    <tr>\n",
       "      <th>0.10</th>\n",
       "      <td>0.279785</td>\n",
       "      <td>0.662088</td>\n",
       "      <td>0.993132</td>\n",
       "      <td>0.794505</td>\n",
       "    </tr>\n",
       "    <tr>\n",
       "      <th>0.25</th>\n",
       "      <td>0.235972</td>\n",
       "      <td>0.775244</td>\n",
       "      <td>0.980769</td>\n",
       "      <td>0.865979</td>\n",
       "    </tr>\n",
       "    <tr>\n",
       "      <th>0.50</th>\n",
       "      <td>0.204458</td>\n",
       "      <td>0.864662</td>\n",
       "      <td>0.947802</td>\n",
       "      <td>0.904325</td>\n",
       "    </tr>\n",
       "    <tr>\n",
       "      <th>0.75</th>\n",
       "      <td>0.178068</td>\n",
       "      <td>0.915108</td>\n",
       "      <td>0.873626</td>\n",
       "      <td>0.893886</td>\n",
       "    </tr>\n",
       "    <tr>\n",
       "      <th>0.90</th>\n",
       "      <td>0.144504</td>\n",
       "      <td>0.941489</td>\n",
       "      <td>0.729396</td>\n",
       "      <td>0.821981</td>\n",
       "    </tr>\n",
       "  </tbody>\n",
       "</table>\n",
       "</div>"
      ],
      "text/plain": [
       "      positives_ratio  precision    recall        f1\n",
       "0.10         0.279785   0.662088  0.993132  0.794505\n",
       "0.25         0.235972   0.775244  0.980769  0.865979\n",
       "0.50         0.204458   0.864662  0.947802  0.904325\n",
       "0.75         0.178068   0.915108  0.873626  0.893886\n",
       "0.90         0.144504   0.941489  0.729396  0.821981"
      ]
     },
     "execution_count": 15,
     "metadata": {},
     "output_type": "execute_result"
    }
   ],
   "source": [
    "from sklearn.metrics import precision_score, recall_score, f1_score\n",
    "\n",
    "f_metrics = []\n",
    "tholds = [0.1, 0.25, 0.5, 0.75, 0.9]\n",
    "for th in [0.1, 0.25, 0.5, 0.75, 0.9]:\n",
    "    f_metrics.append({\n",
    "        'positives_ratio': (y_hat >= th).sum()/y_hat.shape[0],\n",
    "        'precision': precision_score(y_test, y_hat >= th),\n",
    "        'recall': recall_score(y_test, y_hat >= th),\n",
    "        'f1': f1_score(y_test, y_hat >= th),\n",
    "    })\n",
    "pd.DataFrame(f_metrics, index=tholds)"
   ]
  },
  {
   "cell_type": "markdown",
   "metadata": {},
   "source": [
    "**ROC-AUC**\n",
    "\n",
    "The ROC curve is created by plotting the true positive rate (TPR) against the false positive rate (FPR) at various threshold settings.\n",
    "\n",
    "- **TPR/Recall** - *What percent of the positive cases was catched?* \n",
    "$$TPR = {\\frac{TP}{TP + FN}}$$\n",
    "- **FPR/Fall-out** - *What percent of negatives would be classified as positives?* \n",
    "$$FPR = {\\frac{FP}{FP + TN}}$$\n",
    "\n",
    "$$ROCAUC = \\int_{t=0}^{1} TPR(t) \\,dFPR(t)$$\n",
    "\n",
    "![](https://machinelearningmastery.com/wp-content/uploads/2018/08/ROC-Curve-Plot-for-a-No-Skill-Classifier-and-a-Logistic-Regression-Model.png)\n",
    "\n",
    "##### Pros:\n",
    "    + Limited in range [0, 1]\n",
    "    + Doesn't depend on the threshold\n",
    "    + Takes all TP/FP/FN/TN into account\n",
    "    + Has some reference values, e.g. 0.5 - random prediction, 0.8-0.9 in balanced case - good, ~1 ideal prediction, \n",
    "    \n",
    "##### Cons:\n",
    "    - Poorly interpretable (especially for people without IT/ML background)\n",
    "    - Doesn't distinguish between different types of errors (false positives and false negatives). In some imbalanced scenarios, you may want to prioritize one type of error over the other.\n",
    "    \n",
    "**PRECISION-RECALL-AUC**\n",
    "\n",
    "The PRECISION-RECALL curve is created by plotting Precision against Recall at various threshold settings.\n",
    "\n",
    "\n",
    "$$PRECISION\\_RECALL\\_AUC = \\int_{t=0}^{1} PRECISION(t) \\,dRECALL(t)$$\n",
    "\n",
    "![](https://machinelearningmastery.com/wp-content/uploads/2020/01/Precision-Recall-Curve-of-a-Logistic-Regression-Model-and-a-No-Skill-Classifier2.png)\n",
    "\n",
    "##### Pros:\n",
    "    + Limited in range [0, 1]\n",
    "    + Doesn't depend on the threshold\n",
    "    + Very useful for tasks with a huge class imbalance\n",
    "    \n",
    "##### Cons:\n",
    "    - Poorly interpretable (especially for people without IT/ML background)\n",
    "    - Doesn't take into account TN\n",
    "    - Doesn't have reference values"
   ]
  },
  {
   "cell_type": "code",
   "execution_count": 16,
   "metadata": {},
   "outputs": [
    {
     "data": {
      "image/png": "[encoded data removed]",
      "text/plain": [
       "<Figure size 1200x500 with 2 Axes>"
      ]
     },
     "metadata": {},
     "output_type": "display_data"
    }
   ],
   "source": [
    "from matplotlib import pyplot\n",
    "from sklearn.metrics import roc_auc_score, precision_recall_curve, roc_curve, auc\n",
    "\n",
    "fig, axs = pyplot.subplots(1, 2, figsize=(12, 5))\n",
    "\n",
    "# plot no skill and model roc curves\n",
    "def plot_roc_curve(test_y, model_probs, ax):\n",
    "    fpr, tpr, _ = roc_curve(test_y, model_probs)\n",
    "    ax.plot(fpr, tpr, marker='.', label='Logistic')\n",
    "    ax.set_title(f'ROC-AUC = {roc_auc_score(test_y, model_probs):.4f}')\n",
    "    ax.set_xlabel('False Positive Rate')\n",
    "    ax.set_ylabel('True Positive Rate')\n",
    "    ax.legend()\n",
    "    \n",
    "# plot model precision-recall curves\n",
    "def plot_pr_curve(test_y, model_probs, ax):\n",
    "    precision, recall, _ = precision_recall_curve(test_y, model_probs)\n",
    "    ax.plot(recall, precision, marker='.', label='Logistic')\n",
    "    ax.set_title(f'PR-AUC = {auc(recall, precision):.4f}')\n",
    "    ax.set_xlabel('Recall')\n",
    "    ax.set_ylabel('Precision')\n",
    "    ax.legend()\n",
    "\n",
    "\n",
    "plot_roc_curve(y_test, y_hat, axs[0])\n",
    "plot_pr_curve(y_test, y_hat, axs[1])\n",
    "pyplot.show()"
   ]
  },
  {
   "cell_type": "markdown",
   "metadata": {},
   "source": [
    "### Imbalanced classes case"
   ]
  },
  {
   "cell_type": "code",
   "execution_count": 17,
   "metadata": {},
   "outputs": [],
   "source": [
    "negative_class_index = y_test[y_test == 0].index\n",
    "positive_class_index = y_test[y_test == 1].sample(frac=0.05).index\n",
    "imbalanced_sumsample_index = negative_class_index.append(positive_class_index)\n",
    "\n",
    "y_test_imbalanced = y_test.loc[imbalanced_sumsample_index]\n",
    "y_hat_imbalanced = pipe_classification.predict_proba(pd.DataFrame(X_test).loc[imbalanced_sumsample_index])[:, 1]"
   ]
  },
  {
   "cell_type": "code",
   "execution_count": 18,
   "metadata": {},
   "outputs": [
    {
     "data": {
      "image/png": "[encoded data removed]",
      "text/plain": [
       "<Figure size 1200x500 with 2 Axes>"
      ]
     },
     "metadata": {},
     "output_type": "display_data"
    }
   ],
   "source": [
    "fig, axs = pyplot.subplots(1, 2, figsize=(12, 5))\n",
    "\n",
    "plot_roc_curve(y_test_imbalanced, y_hat_imbalanced, axs[0])\n",
    "plot_pr_curve(y_test_imbalanced, y_hat_imbalanced, axs[1])\n",
    "pyplot.show()"
   ]
  },
  {
   "cell_type": "markdown",
   "metadata": {},
   "source": [
    "> **Explore**: check multiclass/multilabel extensions (equations and implementations) for all common classification metrics (accuracy, precision, recall, $F1$/$F\\beta$)"
   ]
  },
  {
   "cell_type": "markdown",
   "metadata": {},
   "source": [
    "### Choosing a correct loss function for a given metric optimization\n",
    "![](https://scikit-learn.org/stable/_images/sphx_glr_plot_sgd_loss_functions_001.png)"
   ]
  },
  {
   "cell_type": "code",
   "execution_count": 19,
   "metadata": {},
   "outputs": [],
   "source": [
    "from sklearn.linear_model import SGDClassifier\n",
    "\n",
    "pipe_classification_log_loss = Pipeline([\n",
    "    (\"scaler\", StandardScaler()),\n",
    "    ('classifier', SGDClassifier(loss='log_loss', random_state=42, n_jobs=-1))\n",
    "])\n",
    "\n",
    "pipe_classification_log_loss.fit(X_train, y_train)\n",
    "y_hat_log_loss = pipe_classification_log_loss.predict_proba(X_test)[:, 1]\n",
    "\n",
    "\n",
    "pipe_classification_huber = Pipeline([\n",
    "    (\"scaler\", StandardScaler()),\n",
    "    ('classifier', SGDClassifier(loss='modified_huber', random_state=42, n_jobs=-1))\n",
    "])\n",
    "\n",
    "pipe_classification_huber.fit(X_train, y_train)\n",
    "y_hat_huber = pipe_classification_huber.predict_proba(X_test)[:, 1]"
   ]
  },
  {
   "cell_type": "code",
   "execution_count": 20,
   "metadata": {},
   "outputs": [
    {
     "data": {
      "image/png": "[encoded data removed]",
      "text/plain": [
       "<Figure size 1200x1000 with 4 Axes>"
      ]
     },
     "metadata": {},
     "output_type": "display_data"
    }
   ],
   "source": [
    "precision_log_loss, recall_log_loss, _ = precision_recall_curve(y_test, y_hat_log_loss)\n",
    "precision_huber, recall_huber, _ = precision_recall_curve(y_test, y_hat_huber)\n",
    "\n",
    "fig, axs = pyplot.subplots(2, 2, figsize=(12, 10))\n",
    "\n",
    "plot_roc_curve(y_test, y_hat_log_loss, axs[0, 0])\n",
    "plot_pr_curve(y_test, y_hat_log_loss, axs[0, 1])\n",
    "\n",
    "plot_roc_curve(y_test, y_hat_huber, axs[1, 0])\n",
    "plot_pr_curve(y_test, y_hat_huber, axs[1, 1])\n",
    "\n",
    "axs[0, 0].set_title(f'Log Loss - ROC Curve (AUC = {roc_auc_score(y_test, y_hat_log_loss):.3f})')\n",
    "axs[0, 1].set_title(f'Log Loss - PR Curve (AUC = {auc(recall_log_loss, precision_log_loss):.3f})')\n",
    "axs[1, 0].set_title(f'Huber Loss - ROC Curve (AUC = {roc_auc_score(y_test, y_hat_huber):.3f})')\n",
    "axs[1, 1].set_title(f'Huber Loss - PR Curve (AUC = {auc(recall_huber, precision_huber):.3f})')\n",
    "\n",
    "# Adjust layout and display the subplots\n",
    "pyplot.tight_layout()\n",
    "pyplot.show()"
   ]
  },
  {
   "cell_type": "markdown",
   "metadata": {},
   "source": [
    "### Thoughts about model selection using evaluation metrics\n",
    "\n",
    "**Within the framework of solving a classification problem, when there are different approaches or models that model the target distribution, in order to compare them with each other, it is better to use AUC-like metrics, since they do not depend on the threshold, and in the case of such metrics, higher values always correspond to a better, in some sense, modeling of the target distribution. But the final business decision usually should be made with respect to \"hard\" e.g. precision/recall metrics, because in real-life scenarios we usually need \"hard\" labels and not probabilities.**"
   ]
  },
  {
   "cell_type": "markdown",
   "metadata": {},
   "source": [
    "<a id='regression_metrics'></a>\n",
    "## 2.3 Regression metrics\n",
    "\n",
    "Examples of regression tasks in the audio processing domain:\n",
    "- Room Acoustics Analysis: Estimating acoustic parameters of a room, such as reverberation time (RT60), from an audio recording. These parameters describe how sound behaves in a space and are essential for designing audio systems in buildings and for virtual reality simulations.\n",
    "- Sound Source Localization: Predicting the position of a sound source relative to a microphone array. This involves estimating the angle of arrival or the distance of sound sources, which is key for applications like surveillance systems, hearing aids, and robotic navigation.\n",
    "- Emotional Intensity or Valence Prediction: In emotion recognition tasks, predicting the degree of an emotion (e.g., how angry or happy someone sounds) or the valence (positive or negative emotional charge) from speech, which can be used in customer service to assess caller satisfaction more finely.\n",
    "- Beat Tracking and Tempo Estimation: Estimating the tempo (beats per minute) of a musical piece or the precise timing of beats. This is crucial for music analysis, DJ software, and applications that automatically synchronize music with visuals or other music tracks.\n",
    "- Age Estimation from Voice: Predicting the age of a speaker based on vocal characteristics. This can be used in demographic studies, targeted advertising, and enhancing voice recognition systems.\n",
    "\n",
    "A regression task, in machine learning, is a type of supervised learning problem where the goal is to predict a continuous numeric value or a real number. In regression tasks, the target variable is continuous, and the model's objective is to learn a mapping from input features to this continuous output."
   ]
  },
  {
   "cell_type": "markdown",
   "metadata": {},
   "source": [
    "**MSE (L2 Loss) and RMSE:** <br>\n",
    "MSE measures your mean square error from target:\n",
    "\n",
    "\n",
    "$$ MSE = {\\frac{1}{N} \\sum_{i=1}^{N}(y_{i}-\\hat{y_{i}})^2}$$\n",
    "\n",
    "$$ RMSE = {\\sqrt{MSE}}$$\n",
    "\n",
    "RMSE and MSE is similiar in terms of minimizers — value minimizes RMSE **if and only if** it minimizes MSE. This means that in terms of competitions we can optimize MSE instead of RMSE. In fact it is easier to work with MSE. But there is a little bit of difference between the two for gradient-based models. The gradient of RMSE with respect to i-th prediction is basically equal to gradient of MSE multiplied by some value. The value doesn't depend on the index I. It means that travelling along MSE gradient is equivalent to traveling along RMSE gradient but with a different flowing rate and the flowing rate depends on MSE score itself. So, it is kind of dynamic. So even though RMSE and MSE are really similar in terms of models scoring, they can be not immediately interchangeable for gradient based methods. We will probably need to adjust some parameters like the learning rate.\n",
    "\n",
    "##### Pros:\n",
    "    + Differentiable\n",
    "    + Could be a loss\n",
    "    + According to the Gauss-Markov theorem optimizing MSE results in BLUE (The best linear unbiased estimator) for linear models if the conditions of the theorem are fulfilled\n",
    "\n",
    "##### Cons:\n",
    "    - Sensitive to outliers: Optimizing MSE could produce a non-robust estimator\n",
    "    - Doesn't have reference values: without knowing the scale of the target variable it's hard to tell whether e.g. 0.5/5/50 values are good or not\n",
    "\n",
    "**R-squared** <br>\n",
    "To see model performance in terms of dummy baseline usually R-squared is used. Or Adjusted R-squared to penalize for model parameters/features\n",
    "\n",
    "$$ R^2 = 1 - {\\frac{MSE}{\\frac{1}{N} \\sum_{i=1}^{N}(y_{i}-\\bar{y_{i}})^2}}$$\n",
    "\n",
    "In a normal scenario R-squared should be between 0 and 1.\n",
    "\n",
    "##### Pros:\n",
    "    + Differentiable\n",
    "    + Could be a loss\n",
    "    + Has reference values: < 0 -> model performs worse than the \"blind guess\"; greater than 0 -> model performs better than the \"blind guess\"; ~1 - we have a perfect model\n",
    "\n",
    "##### Cons:\n",
    "    - Sensitive to outliers\n",
    "    \n",
    "#### Outliers case:\n",
    "![](https://machinelearningmastery.com/wp-content/uploads/2020/03/Comparison-of-Robust-Regression-Algorithms-Line-of-Best-Fit.png)\n",
    "\n",
    "**MAE (L1 Loss / Manhattan Distance):**\n",
    "\n",
    "$$ MAE = {\\frac{1}{N} \\sum_{i=1}^{N}|y_{i}-\\hat{y_{i}}|} $$\n",
    "\n",
    "##### Pros:\n",
    "    + Differentiable \"almost everywhere\". Although, it is not differentiable in 0, but you can simply overcome that by coding simple *if else* condition.\n",
    "    + Could be a loss\n",
    "    + Less sensitive to outliers, so produces more robust estimators\n",
    "\n",
    "##### Cons:\n",
    "    - Doesn't have reference values: without knowing the scale of the target variable it's hard to tell whether e.g. 0.5/5/50 values are good or not\n"
   ]
  },
  {
   "cell_type": "markdown",
   "metadata": {},
   "source": [
    "**Pearson Correlation** <br>\n",
    "\n",
    "The Pearson correlation coefficient, often denoted as \"r,\" is not typically used as a regression loss function in the traditional sense. Instead, it is a measure of the linear relationship or linear association between two continuous variables. It quantifies the strength and direction of the linear relationship between the ground truth target variable and predicted one. The Pearson correlation coefficient ranges from -1 to 1, with the following interpretations: <br>\n",
    "$$ Cov(Y,\\hat{Y}) ={\\frac{1}{N-1}} \\sum_{i=1}^{N}(y_{i} - \\bar{y_{i}})*(\\hat{y_{i}} - \\bar{\\hat{y_{i}}})$$\n",
    "\n",
    "$$PearsonR = {\\frac{Cov(Y,\\hat{Y})}{STD(Y)*STD(\\hat{Y})}}$$\n",
    "\n",
    "##### Pros:\n",
    "    + Differentiable\n",
    "    + Could be a loss. Although, you need to update standard deviation of y_hat\n",
    "    + Has reference values: [-1, 0] - negative linear correlation; [0, ~0.5] weak* linear correlation; [0.5-0.9] strong* linear correlation; [0.9-1] - almost perfect model;\n",
    "\n",
    "##### Cons:\n",
    "    - We can't say anything about absolute errors knowing only correlation coefficient\n",
    "    - Could produce a low values, although it could be a solid monotonous correlation between y and y_hat\n",
    "\n",
    "**Spearman Correlation** <br>\n",
    "\n",
    "The Spearman Correlation coefficient, is calculated as a Pearson correlation coefficient between ranks of target and predicted variables: <br>\n",
    "\n",
    "$$SpearmanR = PearsonR(rank(Y), rank(\\hat{Y}))$$\n",
    "\n",
    "##### Pros:\n",
    "    + Sensitive for monotonous dependencies\n",
    "    + Has reference values: [-1, 0] - negative monotonous correlation; [0, ~0.5] weak* monotonous correlation; [0.5-0.9] strong* monotonous correlation; [0.9-1] - almost perfect model;\n",
    "\n",
    "##### Cons:\n",
    "    - Non-differentiable\n",
    "    - We can't say anything about absolute errors knowing only correlation coefficient"
   ]
  },
  {
   "cell_type": "markdown",
   "metadata": {},
   "source": [
    "> **Explore**: check multivariate extensions (equations and implementations) for all common regression metrics (MAE, MSE, RMSE)"
   ]
  },
  {
   "cell_type": "markdown",
   "metadata": {},
   "source": [
    "<a id='generative_metrics'></a>\n",
    "## 2.4 Metrics in ASR, TTS, Vocoding, Audio Super Resolution tasks\n",
    "\n",
    "In Automated Speech Recognition (ASR) tasks, the performance of a model is typically evaluated using several key metrics. These metrics help in understanding how well the model transcribes spoken language into text.\n",
    "\n",
    "### ASR Metrics:\n",
    "\n",
    "**Word Error Rate (WER):** <br>\n",
    "\n",
    "$$WER = \\frac{S + I + D}{N}$$\n",
    "\n",
    "- S - a substitution occurs when a word gets replaced (for example, “noose” is transcribed as “moose”)\n",
    "- I - an insertion is when a word is added that wasn’t said (for example, “SAT” becomes “essay tea”)\n",
    "- D - a deletion happens when a word is left out of the transcript completely (for example, “turn it around” becomes “turn around”)\n",
    "- N - number of words spoken\n",
    "\n",
    "**Character Error Rate (CER):** <br>\n",
    "Similar to WER, but operates at the character level instead of the word level. It's particularly useful for languages where the notion of a \"word\" is less clear, such as Chinese or Japanese. The formula for CER is similar to WER but uses characters instead of words."
   ]
  },
  {
   "cell_type": "code",
   "execution_count": 21,
   "metadata": {},
   "outputs": [],
   "source": [
    "import numpy as np\n",
    "\n",
    "def levenshtein_distance(ref, hyp):\n",
    "    \"\"\"Calculates the Levenshtein distance between two sequences.\"\"\"\n",
    "    m, n = len(ref), len(hyp)\n",
    "\n",
    "    if ref == hyp:\n",
    "        return 0\n",
    "    if m == 0:\n",
    "        return n\n",
    "    if n == 0:\n",
    "        return m\n",
    "\n",
    "    if m < n:\n",
    "        ref, hyp = hyp, ref\n",
    "        m, n = n, m\n",
    "\n",
    "    previous_row = range(n + 1)\n",
    "    for i, c1 in enumerate(ref):\n",
    "        current_row = [i + 1]\n",
    "        for j, c2 in enumerate(hyp):\n",
    "            insertions = previous_row[j + 1] + 1\n",
    "            deletions = current_row[j] + 1\n",
    "            substitutions = previous_row[j] + (c1 != c2)\n",
    "            current_row.append(min(insertions, deletions, substitutions))\n",
    "        previous_row = current_row\n",
    "\n",
    "    return previous_row[-1]\n",
    "\n",
    "def normalize_text(text, ignore_case=False, remove_space=False):\n",
    "    \"\"\"Normalizes text based on the specified conditions.\"\"\"\n",
    "    if ignore_case:\n",
    "        text = text.lower()\n",
    "    if remove_space:\n",
    "        text = ''.join(text.split())\n",
    "    return text\n",
    "\n",
    "def calculate_errors(reference, hypothesis, ignore_case=False, remove_space=False, delimiter=None):\n",
    "    \"\"\"Calculates edit distance and length/reference length based on the mode (word or char level).\"\"\"\n",
    "    reference = normalize_text(reference, ignore_case, remove_space)\n",
    "    hypothesis = normalize_text(hypothesis, ignore_case, remove_space)\n",
    "\n",
    "    if delimiter:\n",
    "        reference = reference.split(delimiter)\n",
    "        hypothesis = hypothesis.split(delimiter)\n",
    "\n",
    "    edit_distance = levenshtein_distance(reference, hypothesis)\n",
    "    ref_len = len(reference)\n",
    "\n",
    "    return float(edit_distance), ref_len\n",
    "\n",
    "def wer(reference, hypothesis, ignore_case=False, delimiter=' '):\n",
    "    \"\"\"Calculates word error rate.\"\"\"\n",
    "    edit_distance, ref_len = calculate_errors(reference, hypothesis, ignore_case, False, delimiter)\n",
    "\n",
    "    if ref_len == 0:\n",
    "        raise ValueError(\"Reference's word number should be greater than 0.\")\n",
    "\n",
    "    return edit_distance / ref_len\n",
    "\n",
    "def cer(reference, hypothesis, ignore_case=False, remove_space=False):\n",
    "    \"\"\"Calculates character error rate.\"\"\"\n",
    "    edit_distance, ref_len = calculate_errors(reference, hypothesis, ignore_case, remove_space)\n",
    "\n",
    "    if ref_len == 0:\n",
    "        raise ValueError(\"Length of reference should be greater than 0.\")\n",
    "\n",
    "    return edit_distance / ref_len"
   ]
  },
  {
   "cell_type": "code",
   "execution_count": 22,
   "metadata": {},
   "outputs": [],
   "source": [
    "prediction_asr = \"дивно що цей мод зі зміною тіл написали несестривачовські\"\n",
    "ground_truth_asr = \"Дивно, що цей мод зі зміною тіл написали не сестри Вачо́вські.\""
   ]
  },
  {
   "cell_type": "code",
   "execution_count": 45,
   "metadata": {},
   "outputs": [
    {
     "name": "stdout",
     "output_type": "stream",
     "text": [
      "Ideal Case\n",
      "CER: 0.0\n",
      "WER: 0.0\n",
      "\n",
      "Nearly worst Case\n",
      "CER: 2.3548387096774195\n",
      "WER: 1.9090909090909092\n",
      "\n",
      "Real Prediction\n",
      "CER: 0.11290322580645161\n",
      "WER: 0.36363636363636365\n",
      "\n"
     ]
    }
   ],
   "source": [
    "print(\n",
    "    \"Ideal Case\\n\"+\n",
    "    f\"CER: {cer(ground_truth_asr, ground_truth_asr)}\\n\"+\n",
    "    f\"WER: {wer(ground_truth_asr, ground_truth_asr)}\\n\"\n",
    ")\n",
    "\n",
    "print(\n",
    "    \"Nearly worst Case\\n\"+\n",
    "    f\"CER: {cer(ground_truth_asr, 'йтйвтй ііто ііооі' * 10)}\\n\"+\n",
    "    f\"WER: {wer(ground_truth_asr, 'йтйвтй ііто ііооі' * 10)}\\n\"\n",
    ")\n",
    "\n",
    "print(\n",
    "    \"Real Prediction\\n\"+\n",
    "    f\"CER: {cer(ground_truth_asr, prediction_asr)}\\n\"+\n",
    "    f\"WER: {wer(ground_truth_asr, prediction_asr)}\\n\"\n",
    ")"
   ]
  },
  {
   "cell_type": "markdown",
   "metadata": {},
   "source": [
    "### TTS Metrics:\n",
    "\n",
    "![](images/tts_metrics_meme.jpg)\n",
    "\n",
    "In Text-to-Speech (TTS) systems, evaluating the quality and effectiveness of synthesized speech involves several metrics that can be categorized into subjective and objective measures. These metrics help to assess how natural, intelligible, and similar to human speech the generated audio is.\n",
    "\n",
    "#### High-Level Criteria for TTS Model Evaluation\n",
    "\n",
    "##### Primary Criteria:\n",
    "- **Phonetic Accuracy**: How well does the TTS model replicate the pronunciation and articulation of the text?\n",
    "- **Naturalness**: Does the model sound like a real human? This includes natural pronunciation, appropriate pauses, and intonation, avoiding the \"robotic\" sound typical of older TTS systems.\n",
    "- **Speaker Identity**: How closely does the model mimic the voice of the target speaker?\n",
    "\n",
    "##### Additional Considerations:\n",
    "- **Emotional Expressiveness**: Is the model capable of conveying a range of emotions? This is crucial for synthesizing lively dialogues, as opposed to monotone audiobook narration.\n",
    "- **Duration Control**: Can the model generate audio within specific time constraints, if required?\n",
    "- **Other Factors**: Additional criteria might be relevant depending on the use case, such as noise reduction, cross-language capabilities, etc.\n",
    "\n",
    "#### Evaluation Metrics\n",
    "\n",
    "##### Subjective\n",
    "\n",
    "###### Pros\n",
    "- **Human Perception**: Directly reflects how end-users experience the TTS output.\n",
    "- **Context Sensitivity**: Can account for nuances like emotion and intonation that automated metrics might miss.\n",
    "- **Flexibility**: Can be adapted to different evaluation scenarios, such as conversational dialogue vs. audiobook narration.\n",
    "\n",
    "###### Cons\n",
    "- **Time-Consuming**: Requires significant human effort to collect and analyze feedback.\n",
    "- **Subjectivity**: Results can vary between evaluators, leading to inconsistent outcomes.\n",
    "- **Scalability**: Difficult to apply on a large scale or across diverse languages and dialects.\n",
    "- **Impossible to compare different models**: Best case scenario is to have one focus group for all studies but it is impossible\n",
    "\n",
    "###### Examples\n",
    "- **Mean Opinion Score (MOS)**: This is a subjective quality metric where human listeners rate the quality of audio samples on a scale (typically 1 to 5). The scores are averaged to provide a measure of the perceived speech quality or naturalness. It's considered the gold standard in speech quality evaluation but is time-consuming and expensive to conduct.\n",
    "- **Comparison Mean Opinion Score (CMOS):** In this approach, listeners are asked to compare the quality of two audio samples and rate the difference. This method is often used to assess the relative improvement or degradation in speech quality between different TTS systems.\n",
    "- **ABX Testing**: Evaluators choose which of two samples better matches a reference.\n",
    "- **Speaker Similarity**: Listeners assess how closely the synthesized voice matches the target speaker.\n",
    "\n",
    "##### Objective\n",
    "\n",
    "###### Pros\n",
    "- **Consistency**: Provides reproducible and quantifiable results that are not influenced by individual biases.\n",
    "- **Efficiency**: Can be automated and applied to large datasets, enabling rapid evaluation.\n",
    "- **Scalability**: Easily applied across different languages, dialects, and contexts.\n",
    "\n",
    "###### Cons\n",
    "- **Lack of Perception Insight**: May not fully capture how humans perceive the synthesized speech.\n",
    "- **Limited Contextual Sensitivity**: May overlook subtleties like emotion, prosody, or speaker identity.\n",
    "- **Mismatch with Human Judgment**: Objective metrics may not always correlate with subjective human evaluations.\n",
    "\n",
    "###### Examples\n",
    "- **Phoneme Error Rate (PER)**: Measures accuracy of phoneme pronunciation against a reference. Phoneme are extracted using phoneme prediction model, for example fine-tuned for this task Wave2Vec\n",
    "- **Word Error Rate (WER)**: Assesses the accuracy of word transcription. Transcription is extracted using ASR model\n",
    "- **Speaker Encoder Cosine Similarity**: Extracts speaker embedding with neural net and compute distance. \n",
    "- **Predicted Naturalness Mean Opinion Score**: Special model to predict MOS, for example [UTMOS](https://arxiv.org/abs/2204.02152)"
   ]
  },
  {
   "cell_type": "markdown",
   "metadata": {},
   "source": [
    "### Vocoders, Codecs and Audio Super Resolution metrics\n",
    "\n",
    "- **MUSHRA** - is an acronym that stands for Multiple Stimuli with Hidden Reference and Anchor. It is a subjective listening test methodology that is most commonly used to evaluate the perceived sound quality for systems in various technology domains. Examples of such systems are audio codecs, headphones, speakers, apps, and software that are capable of media playback. [Read more](https://www.testdevlab.com/blog/how-we-conduct-listening-tests-mushra-methodology-from-itu-r-recommendations)\n",
    "- **Virtual Speech Quality Objective Listener** (ViSQOL) - is a signal-based, full-reference, intrusive metric that models human speech quality perception using a spectro-temporal measure of similarity between a reference and a test speech signal. [Read more](https://asmp-eurasipjournals.springeropen.com/articles/10.1186/s13636-015-0054-9)\n",
    "- **Scale-Invariant Signal-to-Noise Ratio** (SI-SNR): ![](images/sisnr_metric.png). [Read more](https://arxiv.org/pdf/1711.00541)\n",
    "- **Mel Cepstral Distortion (MCD):** - This metric calculates the distance between the Mel-frequency cepstral coefficients (MFCCs) of the synthesized speech and a reference (typically human speech). It's used to quantify the spectral distortion and assess the similarity in timbre and tone between synthesized and reference audio.\n",
    "- **Log spectral distance (LSD):** - also referred to as log-spectral distortion or root mean square log-spectral distance, is a distance measure between two spectra. The log-spectral distance between spectra P(ω) and P_predicted(ω) is defined as p-norm. [Read More](https://en.wikipedia.org/wiki/Log-spectral_distance)"
   ]
  },
  {
   "cell_type": "markdown",
   "metadata": {},
   "source": [
    "<a id='validation_strategies'></a>\n",
    "# 3. Validation Strategies\n",
    "\n",
    "<a id='overfitting'></a>\n",
    "## 3.1 Overfitting. Why do we need train/test concept? <br>\n",
    "\n",
    "We really don’t want to train and evaluate our model on the same dataset, since it would produce overfitting. In other words, we can’t tell whether the model simply memorized the training data or not, or whether it generalizes well to new, unseen data.\n",
    "\n",
    "Let's look at the problem in more detail using a simple toy example:"
   ]
  },
  {
   "cell_type": "code",
   "execution_count": 24,
   "metadata": {},
   "outputs": [],
   "source": [
    "import numpy as np\n",
    "np.random.seed(42)\n",
    "\n",
    "X_train = np.random.normal(0, 1, (500, 2))\n",
    "noise_train = np.random.normal(0, 1., 500)\n",
    "\n",
    "X_test = np.random.normal(0, 1, (100, 2))\n",
    "noise_test = np.random.normal(0, 1., 100)\n",
    "\n",
    "y_train = (np.sin(X_train) + np.cos(2*X_train)).sum(axis=1) + noise_train\n",
    "y_test = (np.sin(X_test) + np.cos(2*X_test)).sum(axis=1) + noise_test"
   ]
  },
  {
   "cell_type": "code",
   "execution_count": 25,
   "metadata": {},
   "outputs": [
    {
     "name": "stdout",
     "output_type": "stream",
     "text": [
      "MSE on train: 2.046936920069584\n",
      "MSE on test: 1.8647307030508085\n"
     ]
    }
   ],
   "source": [
    "from sklearn.linear_model import Ridge\n",
    "from sklearn.metrics import mean_squared_error\n",
    "\n",
    "lr = Ridge(alpha=1.0, random_state=42)\n",
    "lr.fit(X_train, y_train)\n",
    "\n",
    "y_train_preds = lr.predict(X_train)\n",
    "y_test_preds = lr.predict(X_test)\n",
    "\n",
    "print(f'MSE on train: {mean_squared_error(y_train, y_train_preds)}\\nMSE on test: {mean_squared_error(y_test, y_test_preds)}')"
   ]
  },
  {
   "cell_type": "markdown",
   "metadata": {},
   "source": [
    "Let's add some complexity (polynomial features) to the model and see what will happen with our metrics."
   ]
  },
  {
   "cell_type": "code",
   "execution_count": 26,
   "metadata": {},
   "outputs": [
    {
     "data": {
      "image/png": "[encoded data removed]",
      "text/plain": [
       "<Figure size 640x480 with 1 Axes>"
      ]
     },
     "metadata": {},
     "output_type": "display_data"
    }
   ],
   "source": [
    "from matplotlib import pyplot as plt\n",
    "\n",
    "train_result = []\n",
    "test_result = []\n",
    "\n",
    "for pow_n in range(1, 10):\n",
    "    lr = Ridge(alpha=1.0, random_state=42)\n",
    "\n",
    "    X_train_poly = np.hstack([X_train**(p) for p in range(pow_n)])\n",
    "    X_test_poly = np.hstack([X_test**(p) for p in range(pow_n)])\n",
    "\n",
    "    lr.fit(X_train_poly, y_train)\n",
    "\n",
    "    y_train_preds = lr.predict(X_train_poly)\n",
    "    y_test_preds = lr.predict(X_test_poly)\n",
    "    \n",
    "    train_result.append(mean_squared_error(y_train, y_train_preds))\n",
    "    test_result.append(mean_squared_error(y_test, y_test_preds))\n",
    "\n",
    "plt.plot(list(range(1, 10)), train_result, label=\"Train Result\")\n",
    "plt.plot(list(range(1, 10)), test_result, label=\"Test Result\")\n",
    "\n",
    "plt.xlabel(\"The degree of the polynomial\")  \n",
    "plt.ylabel(\"MSE\")  \n",
    "plt.title(\"Training vs. Testing Performance\")\n",
    "\n",
    "plt.legend()  # Show the legend\n",
    "plt.show()"
   ]
  },
  {
   "cell_type": "markdown",
   "metadata": {},
   "source": [
    "Conclusion:\n",
    "- We almost always can reach optimal loss (in MSE case ~0) for the training set by adding nonlinear feature / stacking more layers to the model\n",
    "- We shouldn't stack layers and add features without proper control, because then we will get poor results in real-life testing / competition leaderboard\n",
    "- So we need to somehow model real testing data using the only training dataset available\n",
    "\n",
    "![](https://preview.redd.it/n9fgba8b0qr01.png?auto=webp&s=e86d2d3447c777d3222016e81a0adfaec1a95592)"
   ]
  },
  {
   "cell_type": "markdown",
   "metadata": {},
   "source": [
    "#### In order to explore different validation strategies, we will solve the problem of predicting the speaker's age."
   ]
  },
  {
   "cell_type": "code",
   "execution_count": 27,
   "metadata": {},
   "outputs": [],
   "source": [
    "from sklearn.preprocessing import LabelEncoder\n",
    "from sklearn.model_selection import train_test_split\n",
    "\n",
    "\n",
    "age_mask_train = df_train.age != 'not_defined'\n",
    "age_mask_test = df_test.age != 'not_defined'\n",
    "\n",
    "df_train_age = df_train[age_mask_train].reset_index(drop=True)\n",
    "df_test_age = df_test[age_mask_test].reset_index(drop=True)\n",
    "\n",
    "le = LabelEncoder().fit(df_train_age.age)\n",
    "\n",
    "y_train = le.transform(df_train_age.age)\n",
    "y_test = le.transform(df_test_age.age)\n",
    "\n",
    "X_train = train_w2v2_embs[age_mask_train]\n",
    "X_test = test_w2v2_embs[age_mask_test]"
   ]
  },
  {
   "cell_type": "code",
   "execution_count": 28,
   "metadata": {},
   "outputs": [
    {
     "data": {
      "text/plain": [
       "age\n",
       "twenties     0.447201\n",
       "thirties     0.298209\n",
       "teens        0.093232\n",
       "fourties     0.088286\n",
       "fifties      0.048940\n",
       "sixties      0.021210\n",
       "seventies    0.001724\n",
       "eighties     0.000899\n",
       "nineties     0.000300\n",
       "Name: proportion, dtype: float64"
      ]
     },
     "execution_count": 28,
     "metadata": {},
     "output_type": "execute_result"
    }
   ],
   "source": [
    "df_train_age.age.value_counts(normalize=True)"
   ]
  },
  {
   "cell_type": "code",
   "execution_count": 29,
   "metadata": {},
   "outputs": [
    {
     "data": {
      "text/plain": [
       "age\n",
       "twenties     0.419441\n",
       "thirties     0.368165\n",
       "fourties     0.116160\n",
       "fifties      0.045687\n",
       "teens        0.044957\n",
       "sixties      0.003159\n",
       "seventies    0.002187\n",
       "eighties     0.000243\n",
       "Name: proportion, dtype: float64"
      ]
     },
     "execution_count": 29,
     "metadata": {},
     "output_type": "execute_result"
    }
   ],
   "source": [
    "df_test_age.age.value_counts(normalize=True)"
   ]
  },
  {
   "cell_type": "markdown",
   "metadata": {},
   "source": [
    "<a id='holdout'></a>\n",
    "## 3.2 Holdout / Stratified split / train-validation-test <br>\n",
    "\n",
    "The holdout method is the simplest model evaluation technique. We take our labeled dataset and split it randomly into two parts: A **training set** and a **test set**:\n",
    "![](https://sebastianraschka.com/images/blog/2016/model-evaluation-selection-part1/testing_01.png)\n",
    "Then, we fit a model to the training data and predict the labels of the test set:\n",
    "![](https://sebastianraschka.com/images/blog/2016/model-evaluation-selection-part1/testing_02.png)\n",
    "And the fraction of correct predictions constitutes our estimate of the prediction accuracy.\n",
    "![](https://sebastianraschka.com/images/blog/2016/model-evaluation-selection-part1/testing_03.png)\n",
    "\n",
    "##### Pros:\n",
    "    + Simple\n",
    "    + Fast\n",
    "\n",
    "##### Cons:\n",
    "    - Not so precise estimate of out-of-sample performance comparing to more advanced techniques\n",
    "    \n",
    "### Class Balance\n",
    "\n",
    "As it was said, you want your validation to mimic your test set as close as possible. And you can make a fair assumption (that is not always true), that distribution of target on train and not seen data is the same. Then you have to use stratification. Stratification ensures stable distributions across split. That is more than just useful if:\n",
    "\n",
    "    + Dataset is small\n",
    "    + Dataset is unbalanced (average target close to 0 or to 1)\n",
    "    + You have a multiclassification task\n",
    "    \n",
    "    \n",
    "### Model Checkpoint Selection\n",
    "\n",
    "If we consider gradient-based training of models, for example neural networks or gradient boosting, then as a result of each epoch there will be some new model weights. Thus, the model at different epochs will behave differently on previously unseen data, so it is logical for the best result to choose a checkpoint from the epoch at which the target metric has the best values on previously unseen data.\n",
    "\n",
    "However, by selecting the weights of the model in this way, we can also get some kind of overfit, since we choose these weights as the best according to the validation dataset, it is quite obvious that on average on any other previously unseen dataset the results of our model in terms of metrics will be worse.\n",
    "\n",
    "Thus, in order to correctly select a model checkpoint after optimization or implement early stopping and also correctly estimate the results of the model on previously unseen data, we can apply train/validation/test strategy.\n",
    "\n",
    "![](https://editor.analyticsvidhya.com/uploads/18265Screenshot-from-2020-10-06-16-35-50-768x432.png)"
   ]
  },
  {
   "cell_type": "code",
   "execution_count": 30,
   "metadata": {},
   "outputs": [
    {
     "name": "stdout",
     "output_type": "stream",
     "text": [
      "class distribution difference std: 0.005114715905553363\n"
     ]
    },
    {
     "data": {
      "text/plain": [
       "0   -0.000143\n",
       "1    0.000680\n",
       "2   -0.009490\n",
       "3    0.000071\n",
       "4    0.000321\n",
       "5   -0.000392\n",
       "6    0.005071\n",
       "7    0.008469\n",
       "8   -0.004588\n",
       "Name: proportion, dtype: float64"
      ]
     },
     "execution_count": 30,
     "metadata": {},
     "output_type": "execute_result"
    }
   ],
   "source": [
    "#straightforward train/test split\n",
    "\n",
    "X_train_train, X_train_val, y_train_train, y_train_val = train_test_split(\n",
    "    X_train, y_train, test_size=0.3, random_state=42\n",
    ")\n",
    "\n",
    "print(f'class distribution difference std: {(pd.Series(y_train_train).value_counts(normalize=True) - pd.Series(y_train_val).value_counts(normalize=True)).std()}')\n",
    "pd.Series(y_train_train).value_counts(normalize=True) - pd.Series(y_train_val).value_counts(normalize=True)"
   ]
  },
  {
   "cell_type": "code",
   "execution_count": 31,
   "metadata": {},
   "outputs": [
    {
     "name": "stdout",
     "output_type": "stream",
     "text": [
      "class distribution difference std: 9.215401161450219e-05\n"
     ]
    },
    {
     "data": {
      "text/plain": [
       "8    0.000052\n",
       "7   -0.000096\n",
       "6    0.000075\n",
       "2    0.000146\n",
       "1   -0.000034\n",
       "5   -0.000035\n",
       "4   -0.000036\n",
       "0   -0.000143\n",
       "3    0.000071\n",
       "Name: proportion, dtype: float64"
      ]
     },
     "execution_count": 31,
     "metadata": {},
     "output_type": "execute_result"
    }
   ],
   "source": [
    "#stratified train/test split\n",
    "\n",
    "X_train_train, X_train_val, y_train_train, y_train_val = train_test_split(\n",
    "    X_train, y_train, test_size=0.3, random_state=42, stratify=y_train\n",
    ")\n",
    "print(f'class distribution difference std: {(pd.Series(y_train_train).value_counts(normalize=True) - pd.Series(y_train_val).value_counts(normalize=True)).std()}')\n",
    "pd.Series(y_train_train).value_counts(normalize=True) - pd.Series(y_train_val).value_counts(normalize=True)"
   ]
  },
  {
   "cell_type": "markdown",
   "metadata": {},
   "source": [
    "<a id='kfold'></a>\n",
    "## 3.3 K-fold / Stratified K-fold / Repeated K-fold\n",
    "\n",
    "**K-fold Cross-validation** is probably the most common technique for model evaluation and model selection. \n",
    "- We split the dataset into *K* parts and iterate over a dataset set *K* times\n",
    "- In each round one part is used for validation, and the remaining *K-1* parts are merged into a training subset for model evaluation\n",
    "- We compute the cross-validation performance as the arithmetic mean over the *K* performance estimates from the validation sets.\n",
    "![](https://sebastianraschka.com/images/blog/2016/model-evaluation-selection-part3/kfold.png)\n",
    "\n",
    "\n",
    "**Stratified K-fold Cross-validation** - we use k-fold as described above, but we will use stratification by target on each split. <br>\n",
    "\n",
    "**Repeated K-fold Cross-validation** - we use k-fold as described above, but we will run the whole process n times with different randomizations durig split. This strategy could be useful if we have a small dataset available and the metric varies significantly from fold to fold.<br>\n",
    "\n",
    "##### Pros:\n",
    "    + Better estimate of out-of-sample performance than simple train/test split\n",
    "\n",
    "##### Cons:\n",
    "    - Runs \"K\" times slower than simple train/test split\n",
    "\n",
    "If we have **little data** and **enough time**, it's better to always do cross-validation for a more precise estimate of performance."
   ]
  },
  {
   "cell_type": "code",
   "execution_count": 32,
   "metadata": {},
   "outputs": [
    {
     "name": "stderr",
     "output_type": "stream",
     "text": [
      "/gpfs/helios/home/volodymyr1/src/ucu_audio_processing_course/.venv/lib/python3.11/site-packages/sklearn/model_selection/_split.py:737: UserWarning: The least populated class in y has only 4 members, which is less than n_splits=5.\n",
      "  warnings.warn(\n"
     ]
    },
    {
     "name": "stdout",
     "output_type": "stream",
     "text": [
      "[0.53727988 0.52566504 0.53315849 0.511994   0.53973013]\n",
      "Mean: 0.5296\n",
      "Std: 0.01\n",
      "3 std range: [0.4996, 0.5596]\n"
     ]
    }
   ],
   "source": [
    "from sklearn.model_selection import StratifiedKFold, cross_val_score\n",
    "\n",
    "pipe_classification = Pipeline([\n",
    "    (\"scaler\", StandardScaler()),\n",
    "    (\"classifier\", LogisticRegression(random_state=42, max_iter=1000))\n",
    "])\n",
    "\n",
    "cv = StratifiedKFold(n_splits=5, shuffle=True, random_state=42)\n",
    "\n",
    "# Perform cross-validation and calculate AUC scores for each fold\n",
    "auc_scores = cross_val_score(pipe_classification, X_train, y_train, cv=cv, scoring='accuracy')\n",
    "print(auc_scores)\n",
    "print(f'Mean: {round(auc_scores.mean(), 4)}')\n",
    "print(f'Std: {round(auc_scores.std(), 4)}')\n",
    "print(f'3 std range: [{round(auc_scores.mean() - 3*auc_scores.std(), 4)}, {round(auc_scores.mean() + 3*auc_scores.std(), 4)}]')"
   ]
  },
  {
   "cell_type": "markdown",
   "metadata": {},
   "source": [
    "<a id='timebased'></a>\n",
    "## Time-based validation / Time K-fold\n",
    "\n",
    "Doing **Time validation** in correct way is very important. Suppose you have a task to predict Wikipedia page viewers as in one of the previous Kaggle competitions (https://www.kaggle.com/c/web-traffic-time-series-forecasting). What are possible ways to do a validation? Again, it is best to mimic split made by organizers and they split this by date. All before January, 1st, 2017 went to train, all after that date (2 months) - to test. The correct way to perform a split is with **sliding window**:\n",
    " \n",
    "\n",
    "![](images/blocking_window.png)\n",
    "\n",
    "Another possible option is to add as much train data from the past as possible on each fold:\n",
    "![](https://miro.medium.com/v2/resize:fit:1204/1*qvdnPF8ETV9mFdMT0Y_BBA.png)\n",
    "\n",
    "Another possible important point that you might need to introduce **time gap** between train -> validation and validation -> test. So in the next scheme:\n",
    "\n",
    "- Validation period -> Gap period\n",
    "- Test period -> Validation Period\n",
    "\n",
    "![](images/detailed_time_split.png)\n",
    "\n",
    "\n",
    "In audio processing time-based validation is not so useful."
   ]
  },
  {
   "cell_type": "markdown",
   "metadata": {},
   "source": [
    "<a id='groupkfold'></a>\n",
    "## 3.5 Group K-fold <br>\n",
    "\n",
    "- The dataset is divided into k folds, just like traditional k-fold cross-validation.\n",
    "- Instead of random assignment to folds, GroupKFold ensures that all data points with the same group label (or identifier) are placed in the same fold.\n",
    "- During each iteration of cross-validation, one of the k folds is used as the test set, while the remaining k-1 folds are used as the training set. Importantly, data points with the same group label are kept together in either the training set or the test set.\n",
    "- The cross-validation process is repeated k times, with each of the k folds serving as the test set exactly once.\n",
    "\n",
    "Group K-fold plays a very important role in audio processing, there are several task examples:\n",
    "- Speaker Identification and Verification: In tasks involving speaker recognition, it's essential to ensure that all recordings from the same speaker are either in the training set or in the validation/test set, but not split between them. This prevents the model from merely memorizing speaker-specific characteristics instead of learning generalizable features for identifying or verifying speakers.\n",
    "- Environmental Sound Classification: When classifying sounds from specific environments (e.g., different cities, rooms, or recording devices), group K-fold validation ensures that sounds recorded in the same environment are grouped together. This helps in assessing the model's ability to generalize across different acoustic environments rather than fitting to unique characteristics of the recording settings.\n",
    "\n",
    "<a id='strategychoose'></a>\n",
    "## Choosing the right strategy for real-life scenarios and competition LB consistency"
   ]
  },
  {
   "cell_type": "code",
   "execution_count": 34,
   "metadata": {},
   "outputs": [],
   "source": [
    "models = {\n",
    "    'baseline_lr': Pipeline([\n",
    "        (\"scaler\", StandardScaler()),\n",
    "        (\"classifier\", LogisticRegression(random_state=42, max_iter=1000))\n",
    "    ]),\n",
    "    'baseline_rf': Pipeline([\n",
    "        ('classifier', RandomForestClassifier(n_estimators=500, max_depth=5, random_state=42))\n",
    "    ]),\n",
    "    'regularized_lr': Pipeline([\n",
    "        (\"scaler\", StandardScaler()),\n",
    "        (\"classifier\", LogisticRegression(C=0.0001, random_state=42, max_iter=1000))\n",
    "    ])\n",
    "}"
   ]
  },
  {
   "cell_type": "markdown",
   "metadata": {},
   "source": [
    "According to what we know about the nature of the dataset itself and the original split, it seems that there is a group component - client_id. So, based on common sense, we should use a group-k-fold split here.\n",
    "\n",
    "> **TODO**: Also based on common sense, it would be good to ensure that the distribution of languages in the folds is similar to the unseen test."
   ]
  },
  {
   "cell_type": "code",
   "execution_count": 35,
   "metadata": {},
   "outputs": [
    {
     "data": {
      "text/html": [
       "<div>\n",
       "<style scoped>\n",
       "    .dataframe tbody tr th:only-of-type {\n",
       "        vertical-align: middle;\n",
       "    }\n",
       "\n",
       "    .dataframe tbody tr th {\n",
       "        vertical-align: top;\n",
       "    }\n",
       "\n",
       "    .dataframe thead th {\n",
       "        text-align: right;\n",
       "    }\n",
       "</style>\n",
       "<table border=\"1\" class=\"dataframe\">\n",
       "  <thead>\n",
       "    <tr style=\"text-align: right;\">\n",
       "      <th></th>\n",
       "      <th>experiment</th>\n",
       "      <th>accuracy_avg</th>\n",
       "      <th>accuracy_std</th>\n",
       "      <th>accuracy_min</th>\n",
       "      <th>accuracy_max</th>\n",
       "      <th>accuracy_lower_bound_estimation</th>\n",
       "      <th>accuracy_higher_bound_estimation</th>\n",
       "    </tr>\n",
       "  </thead>\n",
       "  <tbody>\n",
       "    <tr>\n",
       "      <th>0</th>\n",
       "      <td>baseline_lr</td>\n",
       "      <td>0.4138</td>\n",
       "      <td>0.0229</td>\n",
       "      <td>0.3835</td>\n",
       "      <td>0.4546</td>\n",
       "      <td>0.3451</td>\n",
       "      <td>0.4825</td>\n",
       "    </tr>\n",
       "    <tr>\n",
       "      <th>1</th>\n",
       "      <td>baseline_rf</td>\n",
       "      <td>0.4397</td>\n",
       "      <td>0.0488</td>\n",
       "      <td>0.3741</td>\n",
       "      <td>0.5233</td>\n",
       "      <td>0.2933</td>\n",
       "      <td>0.5861</td>\n",
       "    </tr>\n",
       "    <tr>\n",
       "      <th>2</th>\n",
       "      <td>regularized_lr</td>\n",
       "      <td>0.4617</td>\n",
       "      <td>0.0537</td>\n",
       "      <td>0.4197</td>\n",
       "      <td>0.5826</td>\n",
       "      <td>0.3006</td>\n",
       "      <td>0.6228</td>\n",
       "    </tr>\n",
       "  </tbody>\n",
       "</table>\n",
       "</div>"
      ],
      "text/plain": [
       "       experiment  accuracy_avg  accuracy_std  accuracy_min  accuracy_max  \\\n",
       "0     baseline_lr        0.4138        0.0229        0.3835        0.4546   \n",
       "1     baseline_rf        0.4397        0.0488        0.3741        0.5233   \n",
       "2  regularized_lr        0.4617        0.0537        0.4197        0.5826   \n",
       "\n",
       "   accuracy_lower_bound_estimation  accuracy_higher_bound_estimation  \n",
       "0                           0.3451                            0.4825  \n",
       "1                           0.2933                            0.5861  \n",
       "2                           0.3006                            0.6228  "
      ]
     },
     "execution_count": 35,
     "metadata": {},
     "output_type": "execute_result"
    }
   ],
   "source": [
    "from sklearn.model_selection import cross_val_predict, GroupKFold\n",
    "\n",
    "results = []\n",
    "\n",
    "unseen_test_results = {}\n",
    "unseen_test_stats = {}\n",
    "\n",
    "for model_name, model in models.items():\n",
    "    scores = []\n",
    "    cv = GroupKFold(n_splits=7)\n",
    "    for train_ind, test_ind in cv.split(X_train, y_train, groups=df_train_age.client_id):\n",
    "        X_train_train, y_train_train = X_train[train_ind], y_train[train_ind]\n",
    "        X_train_val, y_train_val = X_train[test_ind], y_train[test_ind]\n",
    "        model.fit(X_train_train, y_train_train)\n",
    "        y_hat = model.predict(X_train_val)\n",
    "        scores.append(accuracy_score(y_train_val, y_hat))\n",
    "        \n",
    "    scores = np.array(scores)\n",
    "    avg_score = round(scores.mean(), 4)\n",
    "    std_score = round(scores.std(), 4)\n",
    "    min_score = round(scores.min(), 4)\n",
    "    max_score = round(scores.max(), 4)\n",
    "    score_lower_bound = round(avg_score - 3*std_score, 4)\n",
    "    score_higher_bound = round(avg_score + 3*std_score, 4)\n",
    "    results.append({\n",
    "        'experiment': model_name,\n",
    "        'accuracy_avg': avg_score,\n",
    "        'accuracy_std': std_score,\n",
    "        'accuracy_min': min_score,\n",
    "        'accuracy_max': max_score,\n",
    "        'accuracy_lower_bound_estimation': score_lower_bound,\n",
    "        'accuracy_higher_bound_estimation': score_higher_bound\n",
    "    })\n",
    "    \n",
    "    \n",
    "    model.fit(X_train, y_train)\n",
    "    y_hat = model.predict(X_test)\n",
    "    unseen_test_results[f'accuracy_{model_name}'] = accuracy_score(y_test, y_hat)\n",
    "    unseen_test_stats[model_name] = {\n",
    "        \"gt\": y_test,\n",
    "        \"pred\": y_hat\n",
    "    }\n",
    "    \n",
    "results = pd.DataFrame(results).sort_values('accuracy_avg')\n",
    "results"
   ]
  },
  {
   "cell_type": "code",
   "execution_count": 36,
   "metadata": {},
   "outputs": [
    {
     "data": {
      "text/plain": [
       "accuracy_baseline_lr       0.431349\n",
       "accuracy_baseline_rf       0.506683\n",
       "accuracy_regularized_lr    0.507898\n",
       "dtype: float64"
      ]
     },
     "execution_count": 36,
     "metadata": {},
     "output_type": "execute_result"
    }
   ],
   "source": [
    "pd.Series(unseen_test_results)"
   ]
  },
  {
   "cell_type": "markdown",
   "metadata": {},
   "source": [
    "> <span style=\"color:red\">**TODO**</span>: Explore [\"Confidence intervals for evaluation in machine learning\"](https://github.com/luferrer/ConfidenceIntervals/tree/main)"
   ]
  },
  {
   "cell_type": "markdown",
   "metadata": {},
   "source": [
    "So, we have a good match in terms of absolute values of the accuracy metric - unseen test metric value is in range of $[\\min(Accuracy), \\max(Accuracy)]$ for the local validation, and we have a perfect correlation between the increase in the evaluation metric on the local validation $\\text{avg}(Accuracy)$ and on the unseen test (public leaderboard) — smaller increase on the local val results smaller increase on the LB and higher increase on the local val results higher increase on the LB. \n",
    "\n",
    "Also this experiment clearly shows that for this problem group-k-fold is a better option than the usual stratified split. You can see for `baseline_lr` config that gkf results are much closer to the unseen test than skf: \n",
    "- Local SKF split - 0.528\n",
    "- Local GKF split - 0.4142\n",
    "- Unseen test (LB) - 0.432564\n",
    "\n",
    "In different competition and real-life scenarios there could be cases in which you won't have an absolute values match for your metrics or there will be no correlation between local validation increase and LB increase or even both, but correlation of gains (better val -> better LB) is often preferable to exact match of absolute values for individual experiments."
   ]
  },
  {
   "cell_type": "markdown",
   "metadata": {},
   "source": [
    "<a id='validation_mismatch'></a>\n",
    "# 4. Local validation VS real-life / competition testing metrics mismatch <br>\n",
    "\n",
    "Sometimes there are situations in which your evaluation metrics in your local validation differs significantly from the actual metrics in the production or in the competition test dataset. \n",
    "\n",
    "There are several aspects of the problem:\n",
    "\n",
    "<a id='wrong_local_validation'></a>\n",
    "## 4.1 Wrong local validation strategy \n",
    "- There is a significant time component in your data and you don't use time-based split\n",
    "- The group-split strategy (by users/by locations, etc.) is needed and you missed it\n",
    "- A more advanced combination of time and group split is needed\n",
    "- If there is a huge gap between validation and real-life/lb, while train and val scores are similar — you certainly have a data leak. Carefuly review your EDA. Try to remove most predictive features and compare the results.\n",
    "- Consider different metrics, so maybe it will give you an idea of what is going on (roc-auc/pr-auc example)\n",
    "- Competition hosts didn't say about some aspects of split or metric calculation no matter by accident or on purpose, so you need to consider and try different options although these options may not directly correspond to what is written in the description section.\n",
    "\n",
    "**If you're a competition participant — try to reproduce the actual validation split and metric that was made by competition hosts at all costs. And it doesn’t matter whether the split/metric is relevant to the business task itself or even common sense — your goal here is to win the competition.** <br>\n",
    "\n",
    "\n",
    "**If you're solving a production task / you're a competition host — try to create validation split that is relevant to real life scenarios and evaluation metric that is relevant to business metrics at all costs. Your goal here is to build the solid and reliable solution with the expected performance in real life.**\n",
    "\n",
    "<a id='shifted_features'></a>\n",
    "## 4.2 Shifted features distributions\n",
    "\n",
    "Another common problem — natural features distributions shift.\n",
    "- The most common cases happen in analysis financial markets: the distribution of stock prices, trading volumes, or volatility can change due to market conditions or economic events.\n",
    "- Another popular case is recommender systems, because user preferences or behaviors in recommender systems may evolve, leading to shifts in the distribution of user interaction data.\n",
    "- There are also a lot of cases in audio processing e.g. different speakers/microphones/environment in train/test.\n",
    "- And the last but not the least: such problems can be caused by errors and bugs in your data collection and processing pipelines and it could turn out that train, test and real-life online data are actually collected in a slightly different ways under the hood.\n",
    "\n",
    "So, in a normal scenario there is no huge difference betweeen \"local\" and \"unseen data\".\n",
    "Is there a way to detect that something is wrong with the test data in terms of features distribution in a semi-automated way? — **Yes!**\n",
    "\n",
    "<a id='adversarial_validation'></a>\n",
    "# 4.3 Adversarial validation\n",
    "\n",
    "The general idea is to check the degree of similarity between train and test in terms of feature distribution: if they are difficult to distinguish, the distribution is probably similar and the usual validation techniques should work.\n",
    "If it does not seem to be the case, so we can suspect they are quite different. This intuition can be quantified by combining train and test sets, assigning 0/1 labels (0 — train, 1 — test), and evaluating a binary classification task. For adversarial validation, we want to create a model that predicts which rows are in the training dataset, and which are in the test set. We, therefore, create a new target column in which the test samples are labeled 1 and the train samples with 0. <br>\n",
    "\n",
    "> **Note:** The Performance of this model will be indicator of how big the problem is. In order to make it work we need to use the model of the same complexity for both the main problem and adversarial validation problem."
   ]
  },
  {
   "cell_type": "code",
   "execution_count": 37,
   "metadata": {},
   "outputs": [
    {
     "data": {
      "text/plain": [
       "0.7326978450372748"
      ]
     },
     "execution_count": 37,
     "metadata": {},
     "output_type": "execute_result"
    }
   ],
   "source": [
    "X_adversarial = np.vstack([X_train, X_test])\n",
    "y_adversarial = len(X_train)*[0] + len(X_test)*[1]\n",
    "\n",
    "X_train_adv, X_val_adv, y_train_adv, y_val_adv = train_test_split(\n",
    "    X_adversarial, y_adversarial, stratify=y_adversarial, test_size=0.3, random_state=42\n",
    ")\n",
    "\n",
    "pipe_classification.fit(X_train_adv, y_train_adv)\n",
    "\n",
    "proba = pipe_classification.predict_proba(X_val_adv)[:, 1]\n",
    "roc_auc_score(y_val_adv, proba)"
   ]
  },
  {
   "cell_type": "markdown",
   "metadata": {},
   "source": [
    "Adversarial validation for the unseen test dataset - ROCAUC=0.73 means that in many cases we can tell whether this particular sample is from the train set or from the unseen test, so we obviously have a features distributions shift, because we have different speakers in train and test, while the total size of the dataset is not that huge."
   ]
  },
  {
   "cell_type": "markdown",
   "metadata": {},
   "source": [
    "<a id='limitations'></a>\n",
    "# 5. Limitations <br>\n",
    "\n",
    "We have discussed how we would like to see validation and metrics in **ideal scenario** but it can be unreal in many cases\n",
    "\n",
    "- **Not enough data** - You just have only a few samples and even cross-validation will not help you to get robust estimation of model performance. For example, on [SenNet + HOA - Hacking the Human Vasculature in 3D Kaggle Competition](https://www.kaggle.com/competitions/blood-vessel-segmentation/data) we had only 3 data samples \n",
    "- **Not enough representatives of certain classes** - You might have big enough dataset but it is highly unbalanced. For example, on [ISIC 2024 - Skin Cancer Detection with 3D-TBP Kaggle Competition](https://www.kaggle.com/competitions/isic-2024-challenge) we had 401059 images, where only 393 (0.098%) were of class one\n",
    "- **Missing meta information for correct validation split** - Columns like `date`, `time`, `group` might be missing, so you can not perform group or time validation correctly. For example, you work with medical data, where patient information is missing, because of ethical concerns\n",
    "- **Too small data diversity** - You might miss data sources and overall data diversity, which will be present in production use cases. For example, you have image data only from one clinic to train/validate/test but you want to deploy your model across several clinics\n",
    "- **Business requirements can not be described with metric or priorities are changing** - It can be hard and in many cases nearly impossible to fully cover real business requirements with objective metric function. Moreover, sometimes business vision and priorities may change and that is why metrics also. For example, `Type 1 Error` was firstly more problematic but after some time `Type 2 Error` become more problematic\n",
    "\n",
    "![](images/igor_validation.png)"
   ]
  },
  {
   "cell_type": "code",
   "execution_count": null,
   "metadata": {},
   "outputs": [],
   "source": []
  }
 ],
 "metadata": {
  "kernelspec": {
   "display_name": "Python 3 (ipykernel)",
   "language": "python",
   "name": "python3"
  },
  "language_info": {
   "codemirror_mode": {
    "name": "ipython",
    "version": 3
   },
   "file_extension": ".py",
   "mimetype": "text/x-python",
   "name": "python",
   "nbconvert_exporter": "python",
   "pygments_lexer": "ipython3",
   "version": "3.11.1"
  }
 },
 "nbformat": 4,
 "nbformat_minor": 4
}
